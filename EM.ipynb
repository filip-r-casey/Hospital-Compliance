{
 "cells": [
  {
   "cell_type": "code",
   "execution_count": 3,
   "metadata": {},
   "outputs": [],
   "source": [
    "import matplotlib.pyplot as plt\n",
    "import numpy as np\n",
    "import pandas as pd\n",
    "import scipy.stats as stats\n",
    "import seaborn as sns\n",
    "import statsmodels.api as sm\n",
    "import psycopg2"
   ]
  },
  {
   "cell_type": "code",
   "execution_count": 13,
   "metadata": {},
   "outputs": [],
   "source": [
    "def GMM(dat, k, param1, param2):\n",
    "    if k == 1:\n",
    "        p_class_given_data = np.ones((len(dat), 1))\n",
    "        means = np.array([np.mean(dat.loc[:, param1]), np.mean(dat.loc[:, param2])])\n",
    "        covars = np.cov(np.transpose(dat))\n",
    "        p_class = np.array([1])\n",
    "\n",
    "        p_sum = 0\n",
    "        for i in range(len(dat)):\n",
    "            p_sum += p_class_given_data[i][0]*(np.square(dat.iloc[i].values-means[0]))\n",
    "        mean_dist = np.sqrt(p_sum / len(dat.index))\n",
    "        return p_class_given_data, means, covars, p_class, mean_dist\n",
    "\n",
    "    \"\"\"Define the variables we will use in the Algorithm\"\"\"\n",
    "    #This represents Σ_m (covariance matrix of each component) (slide 26)\n",
    "    covars=np.zeros((k,2,2))\n",
    "\n",
    "    #This represents μ_m (mean values of each component) (slide 26)\n",
    "    means=np.zeros((k,2))\n",
    "\n",
    "    #This represents W_m (weights/likelihood of each component) (slide 26 bottom)\n",
    "    p_class=np.zeros(k)\n",
    "\n",
    "    #This represents P(x_i | cluster = m), or Φ(x_i | μ_m, Σ_m) (slide 27)\n",
    "    #During the Expectation step, we will use this to derive p̂_mi (or p_class_given_data) as shown on slide 27\n",
    "    #p_class_given_data will be the same shape\n",
    "    p_data_given_class=np.zeros((len(dat),k))\n",
    "    p_class_given_data=np.zeros((len(dat),k))\n",
    "\n",
    "\n",
    "    \"\"\"Initialize means, covs, p_classes\"\"\"\n",
    "    #initializations of starting points (used to set the initial means below)\n",
    "    init_idx=np.random.choice(range(len(dat)), size=k, replace=False)\n",
    "\n",
    "    #Initialize the covariance matrix, the means, and the p_class for each of k components (dims)\n",
    "    for dim in range(k):\n",
    "        #Set the cov matrix of each component to the cov of the entire dataset (slide 26)\n",
    "        covars[dim,:,:]=np.cov(np.transpose(dat))\n",
    "\n",
    "        #Set initial means to initial chosen data points (slide 26)\n",
    "        means[dim,:]=dat.iloc[init_idx[dim]]\n",
    "\n",
    "        #Give each component equal weighting / likelihood to start (slide 26)\n",
    "        p_class[dim]=1/k\n",
    "\n",
    "    \"\"\"Now Iterate\"\"\"\n",
    "    #Now we start our for loop, where-in we'll alernate between: (1) Expecation Step and (2) Maximization Step\n",
    "    #Note - 50 steps is fine, no requirement to check for convergence on this HW\n",
    "\n",
    "    for step in range(50):\n",
    "        \"\"\"Expectation Step (Slide 27)\"\"\"\n",
    "        for row_i in range(len(dat.index)):\n",
    "            for component in range(k):\n",
    "                p_data_given_class[row_i][component] = stats.multivariate_normal(means[component], covars[component]).cdf(dat.iloc[row_i].values.tolist())*p_class[component]\n",
    "            for component in range(k):\n",
    "                p_class_given_data[row_i][component] = p_data_given_class[row_i][component]/sum(p_data_given_class[row_i])\n",
    "        \"\"\"Maximization Step (Slide 29-30)\"\"\"\n",
    "        for component in range(k):\n",
    "            n_m = sum(p_class_given_data[:, component])\n",
    "            p_class[component] = n_m/len(dat.index)\n",
    "            weighted_values = [[p_class_given_data[idx_x][component]*dat.iloc[idx_x][param1], p_class_given_data[idx_x][component]*dat.iloc[idx_x][param2]] for idx_x in range(len(dat.index))]\n",
    "            means[component, :] = list(np.sum(weighted_values, axis=0) / n_m)\n",
    "\n",
    "            covar = [[0, 0],[0, 0]]\n",
    "            x = dat.loc[:, param1]\n",
    "            y = dat.loc[:, param2]\n",
    "            for i in range(k):\n",
    "                covar[0][0] += (x[i]-means[component][0])*(x[i]-means[component][0])\n",
    "                covar[0][1] += (x[i]-means[component][0])*(y[i]-means[component][1])\n",
    "                covar[1][0] += (y[i]-means[component][1])*(x[i]-means[component][0])\n",
    "                covar[1][1] += (y[i]-means[component][1])*(y[i]-means[component][1])\n",
    "\n",
    "            covars[component, :, :] = list(np.array(covar)/n_m)\n",
    "    mean_dist = 0\n",
    "    \"\"\"Once we're done with our for loop, we compute the mean dist (This formula is given in the HW below in Part B)\"\"\"\n",
    "\n",
    "    p_sum = 0\n",
    "    for i in range(len(dat.index)):\n",
    "        for component in range(k):\n",
    "            p_sum += p_class_given_data[i][component]*(np.square(dat.iloc[i].values-means[component]))\n",
    "    mean_dist = np.sqrt(p_sum / len(dat.index))\n",
    "    return p_class_given_data, means, covars, p_class, mean_dist"
   ]
  },
  {
   "cell_type": "code",
   "execution_count": 14,
   "metadata": {},
   "outputs": [],
   "source": [
    "conn = psycopg2.connect(\n",
    "    dbname=\"postgres\",\n",
    "    user=\"postgres\",\n",
    "    password=\"postgres\",\n",
    "    host=\"localhost\",\n",
    "    port=\"5432\",\n",
    ")\n",
    "cur = conn.cursor()\n",
    "cur.execute(\"SELECT * FROM machine_links INNER JOIN features ON machine_links.ccn = features.ccn\") # query to get joined data\n",
    "res = cur.fetchall()\n",
    "df = pd.DataFrame(res)\n",
    "\n",
    "df = df.iloc[:, 0:9] # remove the double ccn column\n",
    "df.columns = [\"ccn\", \"state_or_region\", \"reporting_entity_name_common\", \"machine_readable_url\",'csv_headers','meets_standards' ,\"bed_count\", \"zip_code\", \"medicare_medicaid_eligible\"]\n",
    "\n",
    "df.set_index(\"ccn\", inplace=True) # index by ccn\n",
    "df_zip = df.filter(['meets_standards','zip_code'])\n",
    "df_zip.meets_standards = df_zip.meets_standards.replace({True: 1, False: 0})\n",
    "df_bed  = df.filter(['meets_standards','bed_count'])\n",
    "df_bed.meets_standards = df_bed.meets_standards.replace({True: 1, False: 0})\n",
    "df_medicare = df.filter(['meets_standards','medicare_medicaid_eligible'])\n",
    "df_medicare.meets_standards = df_medicare.meets_standards.replace({True: 1, False: 0})\n",
    "df_medicare.medicare_medicaid_eligible = df_medicare.medicare_medicaid_eligible.replace({True: 1, False: 0})\n"
   ]
  },
  {
   "cell_type": "code",
   "execution_count": 15,
   "metadata": {},
   "outputs": [
    {
     "data": {
      "image/png": "[encoded data removed]",
      "text/plain": [
       "<Figure size 640x480 with 1 Axes>"
      ]
     },
     "metadata": {},
     "output_type": "display_data"
    }
   ],
   "source": [
    "plt.scatter(df_bed.bed_count, df_zip.meets_standards)\n",
    "plt.show()"
   ]
  },
  {
   "cell_type": "code",
   "execution_count": 16,
   "metadata": {},
   "outputs": [
    {
     "data": {
      "text/plain": [
       "(array([[1.00000000e+000, 3.12509458e-133, 1.62288075e-146],\n",
       "        [2.26745001e-010, 9.99999997e-001, 2.86999203e-009],\n",
       "        [1.00000000e+000, 1.06320062e-132, 3.11919101e-295],\n",
       "        ...,\n",
       "        [3.99410090e-009, 9.99999996e-001, 0.00000000e+000],\n",
       "        [3.99410090e-009, 9.99999996e-001, 0.00000000e+000],\n",
       "        [3.99410090e-009, 9.99999996e-001, 0.00000000e+000]]),\n",
       " array([[1.16214418e-01, 1.52121065e+02],\n",
       "        [1.00000000e+00, 1.57684845e+02],\n",
       "        [1.00000000e+00, 4.97262339e+02]]),\n",
       " array([[[ 6.63116991e-04,  2.04599472e-02],\n",
       "         [ 2.04599472e-02,  9.35752578e+01]],\n",
       " \n",
       "        [[ 9.21284507e-04, -2.03894224e-01],\n",
       "         [-2.03894224e-01,  4.97947738e+01]],\n",
       " \n",
       "        [[ 1.49816578e-02,  1.77176589e+00],\n",
       "         [ 1.77176589e+00,  7.30489698e+02]]]),\n",
       " array([0.34590445, 0.61620268, 0.03789287]),\n",
       " array([1.88487058e-01, 2.14283077e+02]))"
      ]
     },
     "execution_count": 16,
     "metadata": {},
     "output_type": "execute_result"
    }
   ],
   "source": [
    "GMM(df_bed, 3, \"meets_standards\", \"bed_count\")"
   ]
  },
  {
   "cell_type": "code",
   "execution_count": null,
   "metadata": {},
   "outputs": [],
   "source": []
  }
 ],
 "metadata": {
  "kernelspec": {
   "display_name": ".venv",
   "language": "python",
   "name": "python3"
  },
  "language_info": {
   "codemirror_mode": {
    "name": "ipython",
    "version": 3
   },
   "file_extension": ".py",
   "mimetype": "text/x-python",
   "name": "python",
   "nbconvert_exporter": "python",
   "pygments_lexer": "ipython3",
   "version": "3.10.5"
  },
  "orig_nbformat": 4
 },
 "nbformat": 4,
 "nbformat_minor": 2
}
